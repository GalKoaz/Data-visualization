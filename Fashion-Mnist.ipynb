{
 "cells": [
  {
   "attachments": {},
   "cell_type": "markdown",
   "id": "4055065e",
   "metadata": {},
   "source": []
  },
  {
   "cell_type": "markdown",
   "id": "b0337f23",
   "metadata": {},
   "source": [
    "## Imports and load the data"
   ]
  },
  {
   "cell_type": "code",
   "execution_count": 29,
   "id": "31ca980e",
   "metadata": {},
   "outputs": [],
   "source": [
    "#Imports and load the data csv.\n",
    "import pandas as pd\n",
    "import seaborn as sns\n",
    "import numpy as np\n",
    "import math\n",
    "import time\n",
    "import matplotlib.pyplot as plt\n",
    "import matplotlib.cbook as cbook\n",
    "from xgboost import XGBClassifier\n",
    "from sklearn.decomposition import PCA as pca\n",
    "from sklearn import preprocessing\n",
    "from sklearn.ensemble import AdaBoostClassifier\n",
    "from sklearn.neighbors import KNeighborsClassifier\n",
    "from sklearn.metrics import mean_squared_error, plot_confusion_matrix, confusion_matrix\n",
    "from sklearn.model_selection import train_test_split\n",
    "from sklearn.metrics import classification_report\n",
    "from sklearn.ensemble import RandomForestClassifier\n",
    "from sklearn.metrics import confusion_matrix\n",
    "from sklearn.ensemble import StackingClassifier\n",
    "from sklearn.linear_model import LogisticRegression\n",
    "from sklearn.model_selection import RandomizedSearchCV"
   ]
  },
  {
   "cell_type": "code",
   "execution_count": 3,
   "id": "2970c3f7",
   "metadata": {},
   "outputs": [],
   "source": [
    "df = pd.read_csv('D:/Fashion-mnist/fashion-mnist_train.csv')\n",
    "#dftest = pd.read_csv('D:/Fashion-mnist/fashion-mnist_test.csv')"
   ]
  },
  {
   "cell_type": "code",
   "execution_count": 6,
   "id": "ce999f4b",
   "metadata": {},
   "outputs": [
    {
     "data": {
      "text/html": [
       "<div>\n",
       "<style scoped>\n",
       "    .dataframe tbody tr th:only-of-type {\n",
       "        vertical-align: middle;\n",
       "    }\n",
       "\n",
       "    .dataframe tbody tr th {\n",
       "        vertical-align: top;\n",
       "    }\n",
       "\n",
       "    .dataframe thead th {\n",
       "        text-align: right;\n",
       "    }\n",
       "</style>\n",
       "<table border=\"1\" class=\"dataframe\">\n",
       "  <thead>\n",
       "    <tr style=\"text-align: right;\">\n",
       "      <th></th>\n",
       "      <th>label</th>\n",
       "      <th>pixel1</th>\n",
       "      <th>pixel2</th>\n",
       "      <th>pixel3</th>\n",
       "      <th>pixel4</th>\n",
       "      <th>pixel5</th>\n",
       "      <th>pixel6</th>\n",
       "      <th>pixel7</th>\n",
       "      <th>pixel8</th>\n",
       "      <th>pixel9</th>\n",
       "      <th>...</th>\n",
       "      <th>pixel775</th>\n",
       "      <th>pixel776</th>\n",
       "      <th>pixel777</th>\n",
       "      <th>pixel778</th>\n",
       "      <th>pixel779</th>\n",
       "      <th>pixel780</th>\n",
       "      <th>pixel781</th>\n",
       "      <th>pixel782</th>\n",
       "      <th>pixel783</th>\n",
       "      <th>pixel784</th>\n",
       "    </tr>\n",
       "  </thead>\n",
       "  <tbody>\n",
       "    <tr>\n",
       "      <th>0</th>\n",
       "      <td>2</td>\n",
       "      <td>0</td>\n",
       "      <td>0</td>\n",
       "      <td>0</td>\n",
       "      <td>0</td>\n",
       "      <td>0</td>\n",
       "      <td>0</td>\n",
       "      <td>0</td>\n",
       "      <td>0</td>\n",
       "      <td>0</td>\n",
       "      <td>...</td>\n",
       "      <td>0</td>\n",
       "      <td>0</td>\n",
       "      <td>0</td>\n",
       "      <td>0</td>\n",
       "      <td>0</td>\n",
       "      <td>0</td>\n",
       "      <td>0</td>\n",
       "      <td>0</td>\n",
       "      <td>0</td>\n",
       "      <td>0</td>\n",
       "    </tr>\n",
       "    <tr>\n",
       "      <th>1</th>\n",
       "      <td>9</td>\n",
       "      <td>0</td>\n",
       "      <td>0</td>\n",
       "      <td>0</td>\n",
       "      <td>0</td>\n",
       "      <td>0</td>\n",
       "      <td>0</td>\n",
       "      <td>0</td>\n",
       "      <td>0</td>\n",
       "      <td>0</td>\n",
       "      <td>...</td>\n",
       "      <td>0</td>\n",
       "      <td>0</td>\n",
       "      <td>0</td>\n",
       "      <td>0</td>\n",
       "      <td>0</td>\n",
       "      <td>0</td>\n",
       "      <td>0</td>\n",
       "      <td>0</td>\n",
       "      <td>0</td>\n",
       "      <td>0</td>\n",
       "    </tr>\n",
       "    <tr>\n",
       "      <th>2</th>\n",
       "      <td>6</td>\n",
       "      <td>0</td>\n",
       "      <td>0</td>\n",
       "      <td>0</td>\n",
       "      <td>0</td>\n",
       "      <td>0</td>\n",
       "      <td>0</td>\n",
       "      <td>0</td>\n",
       "      <td>5</td>\n",
       "      <td>0</td>\n",
       "      <td>...</td>\n",
       "      <td>0</td>\n",
       "      <td>0</td>\n",
       "      <td>0</td>\n",
       "      <td>30</td>\n",
       "      <td>43</td>\n",
       "      <td>0</td>\n",
       "      <td>0</td>\n",
       "      <td>0</td>\n",
       "      <td>0</td>\n",
       "      <td>0</td>\n",
       "    </tr>\n",
       "    <tr>\n",
       "      <th>3</th>\n",
       "      <td>0</td>\n",
       "      <td>0</td>\n",
       "      <td>0</td>\n",
       "      <td>0</td>\n",
       "      <td>1</td>\n",
       "      <td>2</td>\n",
       "      <td>0</td>\n",
       "      <td>0</td>\n",
       "      <td>0</td>\n",
       "      <td>0</td>\n",
       "      <td>...</td>\n",
       "      <td>3</td>\n",
       "      <td>0</td>\n",
       "      <td>0</td>\n",
       "      <td>0</td>\n",
       "      <td>0</td>\n",
       "      <td>1</td>\n",
       "      <td>0</td>\n",
       "      <td>0</td>\n",
       "      <td>0</td>\n",
       "      <td>0</td>\n",
       "    </tr>\n",
       "    <tr>\n",
       "      <th>4</th>\n",
       "      <td>3</td>\n",
       "      <td>0</td>\n",
       "      <td>0</td>\n",
       "      <td>0</td>\n",
       "      <td>0</td>\n",
       "      <td>0</td>\n",
       "      <td>0</td>\n",
       "      <td>0</td>\n",
       "      <td>0</td>\n",
       "      <td>0</td>\n",
       "      <td>...</td>\n",
       "      <td>0</td>\n",
       "      <td>0</td>\n",
       "      <td>0</td>\n",
       "      <td>0</td>\n",
       "      <td>0</td>\n",
       "      <td>0</td>\n",
       "      <td>0</td>\n",
       "      <td>0</td>\n",
       "      <td>0</td>\n",
       "      <td>0</td>\n",
       "    </tr>\n",
       "  </tbody>\n",
       "</table>\n",
       "<p>5 rows × 785 columns</p>\n",
       "</div>"
      ],
      "text/plain": [
       "   label  pixel1  pixel2  pixel3  pixel4  pixel5  pixel6  pixel7  pixel8  \\\n",
       "0      2       0       0       0       0       0       0       0       0   \n",
       "1      9       0       0       0       0       0       0       0       0   \n",
       "2      6       0       0       0       0       0       0       0       5   \n",
       "3      0       0       0       0       1       2       0       0       0   \n",
       "4      3       0       0       0       0       0       0       0       0   \n",
       "\n",
       "   pixel9  ...  pixel775  pixel776  pixel777  pixel778  pixel779  pixel780  \\\n",
       "0       0  ...         0         0         0         0         0         0   \n",
       "1       0  ...         0         0         0         0         0         0   \n",
       "2       0  ...         0         0         0        30        43         0   \n",
       "3       0  ...         3         0         0         0         0         1   \n",
       "4       0  ...         0         0         0         0         0         0   \n",
       "\n",
       "   pixel781  pixel782  pixel783  pixel784  \n",
       "0         0         0         0         0  \n",
       "1         0         0         0         0  \n",
       "2         0         0         0         0  \n",
       "3         0         0         0         0  \n",
       "4         0         0         0         0  \n",
       "\n",
       "[5 rows x 785 columns]"
      ]
     },
     "execution_count": 6,
     "metadata": {},
     "output_type": "execute_result"
    }
   ],
   "source": [
    "#Look at the Data Head\n",
    "df.head()"
   ]
  },
  {
   "cell_type": "code",
   "execution_count": 7,
   "id": "d950bcb4",
   "metadata": {},
   "outputs": [
    {
     "name": "stdout",
     "output_type": "stream",
     "text": [
      "<class 'pandas.core.frame.DataFrame'>\n",
      "RangeIndex: 60000 entries, 0 to 59999\n",
      "Columns: 785 entries, label to pixel784\n",
      "dtypes: int64(785)\n",
      "memory usage: 359.3 MB\n"
     ]
    }
   ],
   "source": [
    "#Data frame information\n",
    "df.info()"
   ]
  },
  {
   "cell_type": "code",
   "execution_count": 8,
   "id": "efbac863",
   "metadata": {},
   "outputs": [
    {
     "data": {
      "text/plain": [
       "count       785\n",
       "unique        1\n",
       "top       False\n",
       "freq        785\n",
       "dtype: object"
      ]
     },
     "execution_count": 8,
     "metadata": {},
     "output_type": "execute_result"
    }
   ],
   "source": [
    "#Checking if have some null values for Clean the data\n",
    "df.isnull().any().describe()"
   ]
  },
  {
   "cell_type": "code",
   "execution_count": 9,
   "id": "cee35eb9",
   "metadata": {},
   "outputs": [
    {
     "data": {
      "text/plain": [
       "((60000, 785), (10000, 785))"
      ]
     },
     "execution_count": 9,
     "metadata": {},
     "output_type": "execute_result"
    }
   ],
   "source": [
    "#Checking how many rows and columns we have.\n",
    "df.shape , dftest.shape"
   ]
  },
  {
   "cell_type": "code",
   "execution_count": 10,
   "id": "49f93369",
   "metadata": {},
   "outputs": [
    {
     "data": {
      "text/plain": [
       "0    6000\n",
       "1    6000\n",
       "2    6000\n",
       "3    6000\n",
       "4    6000\n",
       "5    6000\n",
       "6    6000\n",
       "7    6000\n",
       "8    6000\n",
       "9    6000\n",
       "Name: label, dtype: int64"
      ]
     },
     "execution_count": 10,
     "metadata": {},
     "output_type": "execute_result"
    }
   ],
   "source": [
    "#how many Edible, Poisonous we have in the data set.\n",
    "df['label'].value_counts()"
   ]
  },
  {
   "cell_type": "code",
   "execution_count": 11,
   "id": "91498dff",
   "metadata": {},
   "outputs": [
    {
     "data": {
      "text/plain": [
       "((60000, 784), (60000,))"
      ]
     },
     "execution_count": 11,
     "metadata": {},
     "output_type": "execute_result"
    }
   ],
   "source": [
    "X_train = df.drop('label',axis = 1)\n",
    "y_train = df['label']\n",
    "#X_test = dftest.drop('label',axis = 1)\n",
    "#y_test = dftest['label']\n",
    "\n",
    "X_train.shape , y_train.shape"
   ]
  },
  {
   "cell_type": "markdown",
   "id": "30c416d0",
   "metadata": {},
   "source": [
    "## Check for null values"
   ]
  },
  {
   "cell_type": "code",
   "execution_count": 12,
   "id": "3cc9a03c",
   "metadata": {},
   "outputs": [
    {
     "data": {
      "text/plain": [
       "count       784\n",
       "unique        1\n",
       "top       False\n",
       "freq        784\n",
       "dtype: object"
      ]
     },
     "execution_count": 12,
     "metadata": {},
     "output_type": "execute_result"
    }
   ],
   "source": [
    "X_train.isnull().any().describe()"
   ]
  },
  {
   "cell_type": "code",
   "execution_count": 13,
   "id": "df13ab27",
   "metadata": {},
   "outputs": [
    {
     "data": {
      "text/plain": [
       "'Dress'"
      ]
     },
     "execution_count": 13,
     "metadata": {},
     "output_type": "execute_result"
    }
   ],
   "source": [
    "# define the coloums names\n",
    "col_names = ['T-shirt/top','Trouser','Pullover','Dress','Coat','Sandal','Shirt','Sneaker','Bag','Ankle boot']\n",
    "def get_label_cls(label):\n",
    "    \"\"\"given an int label range [0,9], return the string description of that label\"\"\"\n",
    "    return col_names[label]\n",
    "get_label_cls(3)"
   ]
  },
  {
   "cell_type": "markdown",
   "id": "0453c170",
   "metadata": {},
   "source": [
    "## Reshape for $(X,28,28)$"
   ]
  },
  {
   "cell_type": "code",
   "execution_count": 14,
   "id": "0c6deb6f",
   "metadata": {},
   "outputs": [
    {
     "data": {
      "text/plain": [
       "(60000, 28, 28)"
      ]
     },
     "execution_count": 14,
     "metadata": {},
     "output_type": "execute_result"
    }
   ],
   "source": [
    "x_train_reshape = X_train.values.reshape(-1,28,28)\n",
    "#x_test_reshape = X_test.values.reshape(-1,28,28)\n",
    "x_train_reshape.shape"
   ]
  },
  {
   "cell_type": "markdown",
   "id": "7f9b591f",
   "metadata": {},
   "source": [
    "## Visualisation "
   ]
  },
  {
   "cell_type": "code",
   "execution_count": 15,
   "id": "1f872243",
   "metadata": {
    "scrolled": true
   },
   "outputs": [
    {
     "data": {
      "image/png": "[encoded data removed]",
      "text/plain": [
       "<Figure size 720x720 with 12 Axes>"
      ]
     },
     "metadata": {},
     "output_type": "display_data"
    }
   ],
   "source": [
    "plt.figure(figsize=(10,10))\n",
    "for i in range(12):\n",
    "    plt.subplot(6,6,i+1)\n",
    "    plt.xticks([])\n",
    "    plt.yticks([])\n",
    "    plt.imshow(x_train_reshape[i], cmap='Greys')\n",
    "    plt.xlabel(col_names[y_train[i]])\n",
    "plt.show()"
   ]
  },
  {
   "cell_type": "code",
   "execution_count": 16,
   "id": "6ad7394a",
   "metadata": {},
   "outputs": [
    {
     "data": {
      "image/png": "[encoded data removed]",
      "text/plain": [
       "<Figure size 360x360 with 1 Axes>"
      ]
     },
     "metadata": {},
     "output_type": "display_data"
    }
   ],
   "source": [
    "plt.figure(figsize = (5,5))\n",
    "#explsion\n",
    "plt.pie(df['label'].value_counts(), labels = ['T-shirt/top','Trouser','Pullover','Dress','Coat','Sandal','Shirt','Sneaker','Bag','Ankle boot'], autopct='%1.1f%%', startangle=90, pctdistance=0.85, explode = (0.05,0.05,0.05,0.05,0.05,0.05,0.05,0.05,0.05,0.05), shadow = True)\n",
    "#draw circle\n",
    "centre_circle = plt.Circle((0,0),0.70,fc='white')\n",
    "fig = plt.gcf()\n",
    "fig.gca().add_artist(centre_circle)\n",
    "# Equal aspect ratio ensures that pie is drawn as a circle\n",
    "plt.tight_layout()\n",
    "plt.show()"
   ]
  },
  {
   "cell_type": "markdown",
   "id": "1bf2ea75",
   "metadata": {},
   "source": [
    "## Normalize the train and dataset"
   ]
  },
  {
   "cell_type": "code",
   "execution_count": 17,
   "id": "750a228f",
   "metadata": {},
   "outputs": [],
   "source": [
    "#normalize our train and test dataset so that our models converge faster.\n",
    "X_train = X_train / 255.\n",
    "X_test = X_test / 255."
   ]
  },
  {
   "cell_type": "markdown",
   "id": "1b719c03",
   "metadata": {},
   "source": [
    "## Split the data to train and test"
   ]
  },
  {
   "cell_type": "code",
   "execution_count": 18,
   "id": "fd5108bd",
   "metadata": {},
   "outputs": [],
   "source": [
    "#split the data to train and test\n",
    "X_train, X_test, y_train, y_test = train_test_split(X_train, y_train, test_size = 0.2, random_state = 42)"
   ]
  },
  {
   "cell_type": "code",
   "execution_count": 19,
   "id": "4ee3b605",
   "metadata": {},
   "outputs": [
    {
     "data": {
      "text/html": [
       "<div>\n",
       "<style scoped>\n",
       "    .dataframe tbody tr th:only-of-type {\n",
       "        vertical-align: middle;\n",
       "    }\n",
       "\n",
       "    .dataframe tbody tr th {\n",
       "        vertical-align: top;\n",
       "    }\n",
       "\n",
       "    .dataframe thead th {\n",
       "        text-align: right;\n",
       "    }\n",
       "</style>\n",
       "<table border=\"1\" class=\"dataframe\">\n",
       "  <thead>\n",
       "    <tr style=\"text-align: right;\">\n",
       "      <th></th>\n",
       "      <th>pixel1</th>\n",
       "      <th>pixel2</th>\n",
       "      <th>pixel3</th>\n",
       "      <th>pixel4</th>\n",
       "      <th>pixel5</th>\n",
       "      <th>pixel6</th>\n",
       "      <th>pixel7</th>\n",
       "      <th>pixel8</th>\n",
       "      <th>pixel9</th>\n",
       "      <th>pixel10</th>\n",
       "      <th>...</th>\n",
       "      <th>pixel775</th>\n",
       "      <th>pixel776</th>\n",
       "      <th>pixel777</th>\n",
       "      <th>pixel778</th>\n",
       "      <th>pixel779</th>\n",
       "      <th>pixel780</th>\n",
       "      <th>pixel781</th>\n",
       "      <th>pixel782</th>\n",
       "      <th>pixel783</th>\n",
       "      <th>pixel784</th>\n",
       "    </tr>\n",
       "  </thead>\n",
       "  <tbody>\n",
       "    <tr>\n",
       "      <th>48572</th>\n",
       "      <td>0.0</td>\n",
       "      <td>0.0</td>\n",
       "      <td>0.0</td>\n",
       "      <td>0.0</td>\n",
       "      <td>0.0</td>\n",
       "      <td>0.0</td>\n",
       "      <td>0.0</td>\n",
       "      <td>0.0</td>\n",
       "      <td>0.000000</td>\n",
       "      <td>0.0</td>\n",
       "      <td>...</td>\n",
       "      <td>0.0</td>\n",
       "      <td>0.0</td>\n",
       "      <td>0.000000</td>\n",
       "      <td>0.0</td>\n",
       "      <td>0.000000</td>\n",
       "      <td>0.000000</td>\n",
       "      <td>0.000000</td>\n",
       "      <td>0.0</td>\n",
       "      <td>0.0</td>\n",
       "      <td>0.0</td>\n",
       "    </tr>\n",
       "    <tr>\n",
       "      <th>38696</th>\n",
       "      <td>0.0</td>\n",
       "      <td>0.0</td>\n",
       "      <td>0.0</td>\n",
       "      <td>0.0</td>\n",
       "      <td>0.0</td>\n",
       "      <td>0.0</td>\n",
       "      <td>0.0</td>\n",
       "      <td>0.0</td>\n",
       "      <td>0.000000</td>\n",
       "      <td>0.0</td>\n",
       "      <td>...</td>\n",
       "      <td>0.0</td>\n",
       "      <td>0.0</td>\n",
       "      <td>0.000000</td>\n",
       "      <td>0.0</td>\n",
       "      <td>0.000000</td>\n",
       "      <td>0.000000</td>\n",
       "      <td>0.000000</td>\n",
       "      <td>0.0</td>\n",
       "      <td>0.0</td>\n",
       "      <td>0.0</td>\n",
       "    </tr>\n",
       "    <tr>\n",
       "      <th>13611</th>\n",
       "      <td>0.0</td>\n",
       "      <td>0.0</td>\n",
       "      <td>0.0</td>\n",
       "      <td>0.0</td>\n",
       "      <td>0.0</td>\n",
       "      <td>0.0</td>\n",
       "      <td>0.0</td>\n",
       "      <td>0.0</td>\n",
       "      <td>0.000000</td>\n",
       "      <td>0.0</td>\n",
       "      <td>...</td>\n",
       "      <td>0.0</td>\n",
       "      <td>0.0</td>\n",
       "      <td>0.000000</td>\n",
       "      <td>0.0</td>\n",
       "      <td>0.000000</td>\n",
       "      <td>0.000000</td>\n",
       "      <td>0.000000</td>\n",
       "      <td>0.0</td>\n",
       "      <td>0.0</td>\n",
       "      <td>0.0</td>\n",
       "    </tr>\n",
       "    <tr>\n",
       "      <th>35213</th>\n",
       "      <td>0.0</td>\n",
       "      <td>0.0</td>\n",
       "      <td>0.0</td>\n",
       "      <td>0.0</td>\n",
       "      <td>0.0</td>\n",
       "      <td>0.0</td>\n",
       "      <td>0.0</td>\n",
       "      <td>0.0</td>\n",
       "      <td>0.000000</td>\n",
       "      <td>0.0</td>\n",
       "      <td>...</td>\n",
       "      <td>0.0</td>\n",
       "      <td>0.0</td>\n",
       "      <td>0.000000</td>\n",
       "      <td>0.0</td>\n",
       "      <td>0.000000</td>\n",
       "      <td>0.000000</td>\n",
       "      <td>0.000000</td>\n",
       "      <td>0.0</td>\n",
       "      <td>0.0</td>\n",
       "      <td>0.0</td>\n",
       "    </tr>\n",
       "    <tr>\n",
       "      <th>31766</th>\n",
       "      <td>0.0</td>\n",
       "      <td>0.0</td>\n",
       "      <td>0.0</td>\n",
       "      <td>0.0</td>\n",
       "      <td>0.0</td>\n",
       "      <td>0.0</td>\n",
       "      <td>0.0</td>\n",
       "      <td>0.0</td>\n",
       "      <td>0.003922</td>\n",
       "      <td>0.0</td>\n",
       "      <td>...</td>\n",
       "      <td>0.0</td>\n",
       "      <td>0.0</td>\n",
       "      <td>0.003922</td>\n",
       "      <td>0.0</td>\n",
       "      <td>0.043137</td>\n",
       "      <td>0.145098</td>\n",
       "      <td>0.023529</td>\n",
       "      <td>0.0</td>\n",
       "      <td>0.0</td>\n",
       "      <td>0.0</td>\n",
       "    </tr>\n",
       "  </tbody>\n",
       "</table>\n",
       "<p>5 rows × 784 columns</p>\n",
       "</div>"
      ],
      "text/plain": [
       "       pixel1  pixel2  pixel3  pixel4  pixel5  pixel6  pixel7  pixel8  \\\n",
       "48572     0.0     0.0     0.0     0.0     0.0     0.0     0.0     0.0   \n",
       "38696     0.0     0.0     0.0     0.0     0.0     0.0     0.0     0.0   \n",
       "13611     0.0     0.0     0.0     0.0     0.0     0.0     0.0     0.0   \n",
       "35213     0.0     0.0     0.0     0.0     0.0     0.0     0.0     0.0   \n",
       "31766     0.0     0.0     0.0     0.0     0.0     0.0     0.0     0.0   \n",
       "\n",
       "         pixel9  pixel10  ...  pixel775  pixel776  pixel777  pixel778  \\\n",
       "48572  0.000000      0.0  ...       0.0       0.0  0.000000       0.0   \n",
       "38696  0.000000      0.0  ...       0.0       0.0  0.000000       0.0   \n",
       "13611  0.000000      0.0  ...       0.0       0.0  0.000000       0.0   \n",
       "35213  0.000000      0.0  ...       0.0       0.0  0.000000       0.0   \n",
       "31766  0.003922      0.0  ...       0.0       0.0  0.003922       0.0   \n",
       "\n",
       "       pixel779  pixel780  pixel781  pixel782  pixel783  pixel784  \n",
       "48572  0.000000  0.000000  0.000000       0.0       0.0       0.0  \n",
       "38696  0.000000  0.000000  0.000000       0.0       0.0       0.0  \n",
       "13611  0.000000  0.000000  0.000000       0.0       0.0       0.0  \n",
       "35213  0.000000  0.000000  0.000000       0.0       0.0       0.0  \n",
       "31766  0.043137  0.145098  0.023529       0.0       0.0       0.0  \n",
       "\n",
       "[5 rows x 784 columns]"
      ]
     },
     "execution_count": 19,
     "metadata": {},
     "output_type": "execute_result"
    }
   ],
   "source": [
    "X_train.head()"
   ]
  },
  {
   "cell_type": "markdown",
   "id": "402b478a",
   "metadata": {},
   "source": [
    "## Random Forest "
   ]
  },
  {
   "cell_type": "code",
   "execution_count": 32,
   "id": "8e94a93f",
   "metadata": {},
   "outputs": [
    {
     "name": "stdout",
     "output_type": "stream",
     "text": [
      "RandomForestClassifier Accuracy is: 0.88225\n"
     ]
    },
    {
     "data": {
      "text/plain": [
       "22.017891883850098"
      ]
     },
     "execution_count": 32,
     "metadata": {},
     "output_type": "execute_result"
    }
   ],
   "source": [
    "#random forest classifier model.\n",
    "start = time.time()\n",
    "RFC = RandomForestClassifier(n_estimators=180, max_depth=50, random_state=12, n_jobs=-1)\n",
    "RFC.fit(X_train, y_train)\n",
    "y_predict = RFC.predict(X_test)\n",
    "print('RandomForestClassifier Accuracy is: {}'.format(RFC.score(X_test,y_test)))\n",
    "time.time() - start"
   ]
  },
  {
   "cell_type": "code",
   "execution_count": 33,
   "id": "f7f487ea",
   "metadata": {},
   "outputs": [
    {
     "name": "stdout",
     "output_type": "stream",
     "text": [
      "              precision    recall  f1-score   support\n",
      "\n",
      "           0       0.84      0.87      0.85      1232\n",
      "           1       0.99      0.96      0.98      1174\n",
      "           2       0.79      0.83      0.81      1200\n",
      "           3       0.87      0.92      0.89      1242\n",
      "           4       0.77      0.83      0.80      1185\n",
      "           5       0.96      0.96      0.96      1141\n",
      "           6       0.75      0.59      0.66      1243\n",
      "           7       0.94      0.94      0.94      1224\n",
      "           8       0.95      0.98      0.97      1149\n",
      "           9       0.96      0.96      0.96      1210\n",
      "\n",
      "    accuracy                           0.88     12000\n",
      "   macro avg       0.88      0.88      0.88     12000\n",
      "weighted avg       0.88      0.88      0.88     12000\n",
      "\n"
     ]
    }
   ],
   "source": [
    "RFC_REPORT = classification_report(y_test, y_predict)\n",
    "print(RFC_REPORT)"
   ]
  },
  {
   "cell_type": "code",
   "execution_count": 34,
   "id": "e3b03683",
   "metadata": {},
   "outputs": [
    {
     "data": {
      "image/png": "[encoded data removed]",
      "text/plain": [
       "<Figure size 432x288 with 2 Axes>"
      ]
     },
     "metadata": {
      "needs_background": "light"
     },
     "output_type": "display_data"
    }
   ],
   "source": [
    "plot_confusion_matrix(RFC, X_train, y_train, cmap = \"Accent_r\", normalize= None)\n",
    "plt.title('Confusion Matrix RFC')\n",
    "plt.show()"
   ]
  },
  {
   "cell_type": "code",
   "execution_count": 35,
   "id": "a975af5f",
   "metadata": {},
   "outputs": [
    {
     "name": "stdout",
     "output_type": "stream",
     "text": [
      "Training Accuracy = 1.0\n"
     ]
    }
   ],
   "source": [
    "RFC_train_acc = (RFC.predict(X_train) == y_train).mean().round()\n",
    "print(\"Training Accuracy =\", RFC_train_acc)"
   ]
  },
  {
   "cell_type": "markdown",
   "id": "7ab22662",
   "metadata": {},
   "source": [
    "## XGB Classifier"
   ]
  },
  {
   "cell_type": "code",
   "execution_count": 25,
   "id": "bf17c2c8",
   "metadata": {},
   "outputs": [
    {
     "name": "stdout",
     "output_type": "stream",
     "text": [
      "XGBClassifier Accuracy is: 0.9008333333333334\n"
     ]
    }
   ],
   "source": [
    "#XGBClassifier model.\n",
    "XGB = XGBClassifier(n_estimators=180, max_depth=12, use_label_encoder =False, eval_metric='mlogloss', n_jobs=-1)\n",
    "XGB.fit(X_train, y_train)\n",
    "y_predict = XGB.predict(X_test)\n",
    "print('XGBClassifier Accuracy is: {}'.format(XGB.score(X_test,y_test)))"
   ]
  },
  {
   "cell_type": "code",
   "execution_count": 26,
   "id": "5d81b06f",
   "metadata": {},
   "outputs": [
    {
     "name": "stdout",
     "output_type": "stream",
     "text": [
      "Training Accuracy = 1.0\n"
     ]
    }
   ],
   "source": [
    "XGB_train_acc = (XGB.predict(X_train) == y_train).mean().round()\n",
    "print(\"Training Accuracy =\", XGB_train_acc)"
   ]
  },
  {
   "cell_type": "code",
   "execution_count": 27,
   "id": "8c2b16af",
   "metadata": {},
   "outputs": [
    {
     "data": {
      "image/png": "[encoded data removed]",
      "text/plain": [
       "<Figure size 432x288 with 2 Axes>"
      ]
     },
     "metadata": {
      "needs_background": "light"
     },
     "output_type": "display_data"
    }
   ],
   "source": [
    "plot_confusion_matrix(XGB, X_train, y_train, cmap = \"Accent_r\", normalize= None)\n",
    "plt.title('Confusion Matrix XGB')\n",
    "plt.show()"
   ]
  },
  {
   "cell_type": "markdown",
   "id": "1291e87c",
   "metadata": {},
   "source": [
    "## KNN Classifier"
   ]
  },
  {
   "cell_type": "code",
   "execution_count": 40,
   "id": "8768032d",
   "metadata": {},
   "outputs": [
    {
     "name": "stdout",
     "output_type": "stream",
     "text": [
      "KNeighborsClassifier: n = 1 , Accuracy is: 0.8485833333333334\n",
      "KNeighborsClassifier: n = 2 , Accuracy is: 0.8449166666666666\n",
      "KNeighborsClassifier: n = 3 , Accuracy is: 0.8561666666666666\n",
      "KNeighborsClassifier: n = 4 , Accuracy is: 0.8550833333333333\n",
      "KNeighborsClassifier: n = 5 , Accuracy is: 0.8558333333333333\n",
      "KNeighborsClassifier: n = 6 , Accuracy is: 0.8574166666666667\n",
      "KNeighborsClassifier: n = 7 , Accuracy is: 0.8551666666666666\n",
      "KNeighborsClassifier: n = 8 , Accuracy is: 0.8545\n",
      "KNeighborsClassifier: n = 9 , Accuracy is: 0.8530833333333333\n",
      "KNeighborsClassifier: n = 10 , Accuracy is: 0.8524166666666667\n",
      "KNeighborsClassifier: n = 11 , Accuracy is: 0.8486666666666667\n"
     ]
    }
   ],
   "source": [
    "#knn classifier with for loop [1-5] to check the best accuracy of n\n",
    "K = list(range(1, 12))\n",
    "scores = []\n",
    "for n in K:\n",
    "    knn = KNeighborsClassifier(n_neighbors = n)\n",
    "    knn.fit(X_train, y_train)\n",
    "    y_pred = knn.predict(X_test)\n",
    "    scores.append(knn.score(X_test,y_test))\n",
    "    print('KNeighborsClassifier: n = {} , Accuracy is: {}'.format(n,knn.score(X_test,y_test)))"
   ]
  },
  {
   "cell_type": "code",
   "execution_count": 41,
   "id": "2eae233c",
   "metadata": {},
   "outputs": [
    {
     "data": {
      "text/plain": [
       "Text(0, 0.5, 'Accuracy')"
      ]
     },
     "execution_count": 41,
     "metadata": {},
     "output_type": "execute_result"
    },
    {
     "data": {
      "image/png": "[encoded data removed]",
      "text/plain": [
       "<Figure size 432x288 with 1 Axes>"
      ]
     },
     "metadata": {
      "needs_background": "light"
     },
     "output_type": "display_data"
    }
   ],
   "source": [
    "plt.plot(K, scores)\n",
    "plt.title(\"KNN\")\n",
    "plt.xlabel('Neighbors')\n",
    "plt.ylabel('Accuracy')"
   ]
  },
  {
   "cell_type": "code",
   "execution_count": 42,
   "id": "cc8cdf8b",
   "metadata": {},
   "outputs": [
    {
     "data": {
      "image/png": "[encoded data removed]",
      "text/plain": [
       "<Figure size 432x288 with 2 Axes>"
      ]
     },
     "metadata": {
      "needs_background": "light"
     },
     "output_type": "display_data"
    }
   ],
   "source": [
    "plot_confusion_matrix(knn, X_train, y_train, cmap = \"Accent_r\", normalize= None)\n",
    "plt.title('Confusion Matrix KNN')\n",
    "plt.show()"
   ]
  },
  {
   "cell_type": "code",
   "execution_count": 44,
   "id": "296cff18",
   "metadata": {},
   "outputs": [
    {
     "name": "stdout",
     "output_type": "stream",
     "text": [
      "KNeighborsClassifier: n = 6 , Accuracy is: 0.8574166666666667\n"
     ]
    }
   ],
   "source": [
    "knn = KNeighborsClassifier(n_neighbors = 6)\n",
    "knn.fit(X_train, y_train)\n",
    "y_pred = knn.predict(X_test)\n",
    "print('KNeighborsClassifier: n = {} , Accuracy is: {}'.format(6,knn.score(X_test,y_test)))"
   ]
  },
  {
   "cell_type": "markdown",
   "id": "ee70b388",
   "metadata": {},
   "source": [
    "## Classification report"
   ]
  },
  {
   "cell_type": "code",
   "execution_count": 45,
   "id": "e6a9a71b",
   "metadata": {},
   "outputs": [
    {
     "name": "stdout",
     "output_type": "stream",
     "text": [
      "              precision    recall  f1-score   support\n",
      "\n",
      "           0       0.84      0.87      0.85      1232\n",
      "           1       0.99      0.96      0.98      1174\n",
      "           2       0.79      0.83      0.81      1200\n",
      "           3       0.87      0.92      0.89      1242\n",
      "           4       0.77      0.83      0.80      1185\n",
      "           5       0.96      0.96      0.96      1141\n",
      "           6       0.75      0.59      0.66      1243\n",
      "           7       0.94      0.94      0.94      1224\n",
      "           8       0.95      0.98      0.97      1149\n",
      "           9       0.96      0.96      0.96      1210\n",
      "\n",
      "    accuracy                           0.88     12000\n",
      "   macro avg       0.88      0.88      0.88     12000\n",
      "weighted avg       0.88      0.88      0.88     12000\n",
      "\n"
     ]
    }
   ],
   "source": [
    "RFC_REPORT_F = classification_report(y_test, y_predict)\n",
    "print(RFC_REPORT)"
   ]
  },
  {
   "cell_type": "markdown",
   "id": "36cf9771",
   "metadata": {},
   "source": [
    "## Summary  accuracy of the models"
   ]
  },
  {
   "cell_type": "code",
   "execution_count": 46,
   "id": "1ef716c9",
   "metadata": {},
   "outputs": [],
   "source": [
    "def floor(k):\n",
    "  return (math.floor(k*10000)/10000)"
   ]
  },
  {
   "cell_type": "code",
   "execution_count": 49,
   "id": "752941ef",
   "metadata": {},
   "outputs": [
    {
     "data": {
      "image/png": "[encoded data removed]",
      "text/plain": [
       "<Figure size 432x288 with 1 Axes>"
      ]
     },
     "metadata": {
      "needs_background": "light"
     },
     "output_type": "display_data"
    }
   ],
   "source": [
    "plt.bar(['KNN','RFC','XGB'],[knn.score(X_test,y_test),RFC.score(X_test,y_test),XGB.score(X_test,y_test)], color=['black', 'red', 'green', 'blue', 'cyan'])\n",
    "plt.xlabel('Model')\n",
    "plt.xticks(rotation=45)\n",
    "plt.ylabel(\"Accuracy\")\n",
    "for i, v in enumerate([floor(knn.score(X_test,y_test)),floor(RFC.score(X_test,y_test)),floor(XGB.score(X_test,y_test))]):\n",
    "    plt.text(xlocs[i] - 0.25, v + 0.01, str(v))\n",
    "xlocs, xlabs = plt.xticks()\n",
    "plt.show()"
   ]
  },
  {
   "cell_type": "code",
   "execution_count": 35,
   "id": "99bb655a",
   "metadata": {},
   "outputs": [],
   "source": [
    "scl = preprocessing.StandardScaler().fit(X_train)\n",
    "X_scl = scl.transform(X_train)"
   ]
  },
  {
   "cell_type": "markdown",
   "id": "e9fa49e0",
   "metadata": {},
   "source": [
    "## PCA - train & test "
   ]
  },
  {
   "cell_type": "code",
   "execution_count": 50,
   "id": "f83bcf47",
   "metadata": {},
   "outputs": [
    {
     "name": "stdout",
     "output_type": "stream",
     "text": [
      "Number of components is: 84\n"
     ]
    }
   ],
   "source": [
    "PCA = pca(n_components = 0.9, random_state= 0, svd_solver='full')\n",
    "\n",
    "X_Train_PCA = PCA.fit_transform(X_train)\n",
    "X_test_PCA = PCA.transform(X_test)\n",
    "\n",
    "print('Number of components is: {}'.format(PCA.n_components_))"
   ]
  },
  {
   "cell_type": "markdown",
   "id": "508c8cde",
   "metadata": {},
   "source": [
    "## XGB Classifier with PCA"
   ]
  },
  {
   "cell_type": "code",
   "execution_count": 52,
   "id": "867a7ded",
   "metadata": {},
   "outputs": [
    {
     "name": "stdout",
     "output_type": "stream",
     "text": [
      "XGBClassifier Accuracy is: 0.87\n"
     ]
    },
    {
     "data": {
      "text/plain": [
       "198.79397869110107"
      ]
     },
     "execution_count": 52,
     "metadata": {},
     "output_type": "execute_result"
    }
   ],
   "source": [
    "#XGBClassifier model.\n",
    "start = time.time()\n",
    "XGB_PCA = XGBClassifier(n_estimators=180, max_depth=3, random_state=12, use_label_encoder =False, eval_metric='mlogloss',n_jobs=-1)\n",
    "XGB_PCA.fit(X_Train_PCA, y_train)\n",
    "y_predict = XGB_PCA.predict(X_test_PCA)\n",
    "print('XGBClassifier Accuracy is: {}'.format(XGB_PCA.score(X_test_PCA,y_test)))\n",
    "time.time()-start"
   ]
  },
  {
   "cell_type": "code",
   "execution_count": null,
   "id": "20443e3a",
   "metadata": {},
   "outputs": [],
   "source": [
    "param_grid = {'max_depth':[2,4,8],'num_class': [3], 'learning_rate':[0.001,0.005,0.001, 0.01, 0.1],'n_estimators':[100,150,200,250],'colsample_bytree':[0.3,0.7]}\n",
    "xgb_c = XGBClassifier(objective='multi:softmax',n_jobs=-1,gamma=0,colsample_bytree=0.8)\n",
    "\n",
    "XGBGridsearch = RandomizedSearchCV(estimator=xgb_c,param_distributions=param_grid,verbose=3,scoring='accuracy',n_jobs=-1,cv=5,n_iter=15)\n",
    "XGBGridsearch.fit(X_Train_PCA,y_train)"
   ]
  },
  {
   "cell_type": "code",
   "execution_count": null,
   "id": "55a5b3d6",
   "metadata": {},
   "outputs": [],
   "source": [
    "XGBGridsearch.best_estimator_"
   ]
  },
  {
   "cell_type": "code",
   "execution_count": null,
   "id": "4df21c25",
   "metadata": {},
   "outputs": [],
   "source": [
    "#XGBClassifier model.\n",
    "XGB_bestest = XGBClassifier(base_score=0.5, booster='gbtree', colsample_bylevel=1,\n",
    "              colsample_bynode=1, colsample_bytree=0.7, gamma=0, gpu_id=-1,\n",
    "              importance_type='gain', interaction_constraints='',\n",
    "              learning_rate=0.1, max_delta_step=0, max_depth=8,\n",
    "              min_child_weight=1, monotone_constraints='()',\n",
    "              n_estimators=250, n_jobs=-1, num_class=3, num_parallel_tree=1,\n",
    "              objective='multi:softmax', random_state=0, reg_alpha=0,\n",
    "              reg_lambda=1, scale_pos_weight=None, subsample=1,\n",
    "              tree_method='exact', validate_parameters=1, verbosity=None, eval_metric='mlogloss')\n",
    "XGB_bestest.fit(X_Train_PCA, y_train)\n",
    "y_predict = XGB_bestest.predict(X_test_PCA)\n",
    "print('XGBClassifier Accuracy is: {}'.format(XGB_bestest.score(X_test_PCA,y_test)))"
   ]
  },
  {
   "cell_type": "markdown",
   "id": "0ba9ebdf",
   "metadata": {},
   "source": [
    "## Random Forest Classifier with PCA"
   ]
  },
  {
   "cell_type": "code",
   "execution_count": 53,
   "id": "0fd7bee5",
   "metadata": {},
   "outputs": [
    {
     "name": "stdout",
     "output_type": "stream",
     "text": [
      "RandomForestClassifier Accuracy is: 0.72525\n"
     ]
    },
    {
     "data": {
      "text/plain": [
       "20.047212600708008"
      ]
     },
     "execution_count": 53,
     "metadata": {},
     "output_type": "execute_result"
    }
   ],
   "source": [
    "#random forest classifier model.\n",
    "start = time.time()\n",
    "RFC_PCA = RandomForestClassifier(n_estimators=180, max_depth=3, random_state=12,n_jobs=-1)\n",
    "RFC_PCA.fit(X_Train_PCA, y_train)\n",
    "y_predict = RFC_PCA.predict(X_test_PCA)\n",
    "print('RandomForestClassifier Accuracy is: {}'.format(RFC_PCA.score(X_test_PCA,y_test)))\n",
    "time.time()-start"
   ]
  },
  {
   "cell_type": "code",
   "execution_count": 54,
   "id": "06c00828",
   "metadata": {},
   "outputs": [
    {
     "data": {
      "text/plain": [
       "669.4160361289978"
      ]
     },
     "execution_count": 54,
     "metadata": {},
     "output_type": "execute_result"
    }
   ],
   "source": [
    "start = time.time()\n",
    "forest_params = {'n_estimators':[100,200,400], 'max_depth':[None,30,100],'max_features':['auto','sqrt','log2'],'random_state':[0]}\n",
    "forest_grid_search = RandomizedSearchCV(RandomForestClassifier(n_jobs=-1),forest_params,cv=3,scoring='accuracy',return_train_score=True,random_state=0)\n",
    "forest_grid_search.fit(X_Train_PCA,y_train)\n",
    "time.time()-start"
   ]
  },
  {
   "cell_type": "code",
   "execution_count": 55,
   "id": "c7d20ee4",
   "metadata": {},
   "outputs": [
    {
     "data": {
      "text/plain": [
       "RandomForestClassifier(max_depth=30, max_features='log2', n_estimators=400,\n",
       "                       n_jobs=-1, random_state=0)"
      ]
     },
     "execution_count": 55,
     "metadata": {},
     "output_type": "execute_result"
    }
   ],
   "source": [
    "forest_grid_search.best_estimator_"
   ]
  },
  {
   "cell_type": "code",
   "execution_count": 56,
   "id": "cd217acf",
   "metadata": {},
   "outputs": [
    {
     "name": "stdout",
     "output_type": "stream",
     "text": [
      "RandomForestClassifier Accuracy is: 0.8689166666666667\n"
     ]
    },
    {
     "data": {
      "text/plain": [
       "29.60334825515747"
      ]
     },
     "execution_count": 56,
     "metadata": {},
     "output_type": "execute_result"
    }
   ],
   "source": [
    "#random forest classifier model.\n",
    "start = time.time()\n",
    "RFC_bestest = RandomForestClassifier(max_depth=30, max_features='log2', n_estimators=400, n_jobs=-1, random_state=0)\n",
    "RFC_bestest.fit(X_Train_PCA, y_train)\n",
    "y_predict = RFC_bestest.predict(X_test_PCA)\n",
    "print('RandomForestClassifier Accuracy is: {}'.format(RFC_bestest.score(X_test_PCA,y_test)))\n",
    "time.time()-start"
   ]
  },
  {
   "cell_type": "code",
   "execution_count": 61,
   "id": "63a6b590",
   "metadata": {},
   "outputs": [
    {
     "name": "stdout",
     "output_type": "stream",
     "text": [
      "KNeighborsClassifier: n = 1 , Accuracy is: 0.8490833333333333\n",
      "KNeighborsClassifier: n = 2 , Accuracy is: 0.845\n",
      "KNeighborsClassifier: n = 3 , Accuracy is: 0.85925\n",
      "KNeighborsClassifier: n = 4 , Accuracy is: 0.8603333333333333\n",
      "KNeighborsClassifier: n = 5 , Accuracy is: 0.8615833333333334\n",
      "KNeighborsClassifier: n = 6 , Accuracy is: 0.8604166666666667\n",
      "KNeighborsClassifier: n = 7 , Accuracy is: 0.8586666666666667\n",
      "KNeighborsClassifier: n = 8 , Accuracy is: 0.8600833333333333\n",
      "KNeighborsClassifier: n = 9 , Accuracy is: 0.8585833333333334\n",
      "KNeighborsClassifier: n = 10 , Accuracy is: 0.8584166666666667\n"
     ]
    }
   ],
   "source": [
    "#knn classifier with for loop [1-5] to check the best accuracy of n\n",
    "K = list(range(1, 11))\n",
    "scores = []\n",
    "for n in K:\n",
    "    knn = KNeighborsClassifier(n_neighbors = n)\n",
    "    knn.fit(X_Train_PCA, y_train)\n",
    "    y_pred = knn.predict(X_Train_PCA)\n",
    "    scores.append(knn.score(X_test_PCA,y_test))\n",
    "    print('KNeighborsClassifier: n = {} , Accuracy is: {}'.format(n,knn.score(X_test_PCA,y_test)))"
   ]
  },
  {
   "cell_type": "code",
   "execution_count": 62,
   "id": "926361e2",
   "metadata": {},
   "outputs": [
    {
     "data": {
      "text/plain": [
       "Text(0, 0.5, 'Accuracy')"
      ]
     },
     "execution_count": 62,
     "metadata": {},
     "output_type": "execute_result"
    },
    {
     "data": {
      "image/png": "[encoded data removed]",
      "text/plain": [
       "<Figure size 432x288 with 1 Axes>"
      ]
     },
     "metadata": {
      "needs_background": "light"
     },
     "output_type": "display_data"
    }
   ],
   "source": [
    "plt.plot(K, scores)\n",
    "plt.title(\"KNN\")\n",
    "plt.xlabel('Neighbors')\n",
    "plt.ylabel('Accuracy')"
   ]
  },
  {
   "cell_type": "code",
   "execution_count": 63,
   "id": "0e10f9ca",
   "metadata": {},
   "outputs": [
    {
     "name": "stdout",
     "output_type": "stream",
     "text": [
      "KNeighborsClassifier: n = 5 , Accuracy is: 0.8615833333333334\n"
     ]
    }
   ],
   "source": [
    "knn = KNeighborsClassifier(n_neighbors = 5)\n",
    "knn.fit(X_Train_PCA, y_train)\n",
    "y_pred = knn.predict(X_Train_PCA)\n",
    "print('KNeighborsClassifier: n = {} , Accuracy is: {}'.format(5,knn.score(X_test_PCA,y_test)))"
   ]
  },
  {
   "cell_type": "code",
   "execution_count": 57,
   "id": "3eff91a0",
   "metadata": {},
   "outputs": [
    {
     "name": "stdout",
     "output_type": "stream",
     "text": [
      "GaussianNB Accuracy is: 0.7711666666666667\n"
     ]
    }
   ],
   "source": [
    "from sklearn.naive_bayes import GaussianNB\n",
    "GNB = GaussianNB()\n",
    "GNB.fit(X_Train_PCA, y_train)\n",
    "GNB_P = GNB.predict(X_Train_PCA)\n",
    "print('GaussianNB Accuracy is: {}'.format(GNB.score(X_test_PCA,y_test)))"
   ]
  },
  {
   "cell_type": "code",
   "execution_count": 58,
   "id": "8eec91e8",
   "metadata": {},
   "outputs": [
    {
     "data": {
      "text/plain": [
       "RandomizedSearchCV(cv=3, estimator=GaussianNB(),\n",
       "                   param_distributions={'var_smoothing': array([1.00000000e+00, 8.11130831e-01, 6.57933225e-01, 5.33669923e-01,\n",
       "       4.32876128e-01, 3.51119173e-01, 2.84803587e-01, 2.31012970e-01,\n",
       "       1.87381742e-01, 1.51991108e-01, 1.23284674e-01, 1.00000000e-01,\n",
       "       8.11130831e-02, 6.57933225e-02, 5.33669923e-02, 4.32876128e-02,\n",
       "       3.51119173e-02, 2.84...\n",
       "       5.33669923e-08, 4.32876128e-08, 3.51119173e-08, 2.84803587e-08,\n",
       "       2.31012970e-08, 1.87381742e-08, 1.51991108e-08, 1.23284674e-08,\n",
       "       1.00000000e-08, 8.11130831e-09, 6.57933225e-09, 5.33669923e-09,\n",
       "       4.32876128e-09, 3.51119173e-09, 2.84803587e-09, 2.31012970e-09,\n",
       "       1.87381742e-09, 1.51991108e-09, 1.23284674e-09, 1.00000000e-09])},\n",
       "                   random_state=0, return_train_score=True, scoring='accuracy')"
      ]
     },
     "execution_count": 58,
     "metadata": {},
     "output_type": "execute_result"
    }
   ],
   "source": [
    "param_grid_GNB = {'var_smoothing': np.logspace(0,-9, num=100)}\n",
    "GNB_grid_search = RandomizedSearchCV(GaussianNB(),param_grid_GNB,cv=3,scoring='accuracy',return_train_score=True,random_state=0)\n",
    "GNB_grid_search.fit(X_Train_PCA,y_train)"
   ]
  },
  {
   "cell_type": "code",
   "execution_count": 59,
   "id": "bd2f9675",
   "metadata": {},
   "outputs": [
    {
     "data": {
      "text/plain": [
       "GaussianNB(var_smoothing=1e-05)"
      ]
     },
     "execution_count": 59,
     "metadata": {},
     "output_type": "execute_result"
    }
   ],
   "source": [
    "GNB_grid_search.best_estimator_"
   ]
  },
  {
   "cell_type": "code",
   "execution_count": 60,
   "id": "9bddef75",
   "metadata": {},
   "outputs": [
    {
     "name": "stdout",
     "output_type": "stream",
     "text": [
      "GaussianNB Accuracy is: 0.7713333333333333\n"
     ]
    }
   ],
   "source": [
    "GNB_bestest = GaussianNB(var_smoothing=1e-05)\n",
    "GNB_bestest.fit(X_Train_PCA, y_train)\n",
    "GNB_P = GNB_bestest.predict(X_Train_PCA)\n",
    "print('GaussianNB Accuracy is: {}'.format(GNB_bestest.score(X_test_PCA,y_test)))"
   ]
  },
  {
   "cell_type": "code",
   "execution_count": null,
   "id": "82ac6b61",
   "metadata": {},
   "outputs": [],
   "source": [
    "start = time.time()\n",
    "estimators = [('RFC',RandomForestClassifier(max_depth=30, max_features='sqrt', n_estimators=400,n_jobs=-1, random_state=0)),\n",
    "              ('XGB', XGBClassifier(n_estimators=250, random_state=0,eval_metric='mlogloss',base_score=0.5,learning_rate=0.1, max_delta_step=0,max_depth=8,colsample_bytree=0.7,num_parallel_tree=1,validate_parameters=1,\n",
    "importance_type='gain',n_jobs=-1,gpu_id=-1,tree_method='exact',subsample=1,reg_alpha=0,colsample_bylevel=1,booster='gbtree',reg_lambda=1,gamma=0))]\n",
    "clf = StackingClassifier(estimators=estimators, final_estimator=LogisticRegression())\n",
    "time.time() - start"
   ]
  },
  {
   "cell_type": "code",
   "execution_count": null,
   "id": "3f28f6f1",
   "metadata": {},
   "outputs": [],
   "source": [
    "start = time.time()\n",
    "clf.fit(X_Train_PCA,y_train)\n",
    "time.time() - start"
   ]
  },
  {
   "cell_type": "code",
   "execution_count": null,
   "id": "a718f021",
   "metadata": {},
   "outputs": [],
   "source": [
    "print('StackingClassifier Accuracy is: {}'.format(clf.score(X_test_PCA,y_test)))"
   ]
  },
  {
   "cell_type": "code",
   "execution_count": null,
   "id": "9699a7ad",
   "metadata": {},
   "outputs": [],
   "source": [
    "from sklearn.ensemble import BaggingClassifier\n",
    "start = time.time()\n",
    "bagging = BaggingClassifier(base_estimator=clf, n_jobs=-1)\n",
    "bagging.fit(X_Train_PCA, y_train)\n",
    "time.time()-start"
   ]
  },
  {
   "cell_type": "code",
   "execution_count": null,
   "id": "89ac02a9",
   "metadata": {},
   "outputs": [],
   "source": [
    "y_pred = bagging.predict(X_test_PCA)\n",
    "print('Bagging with stacking Accuracy is: {}'.format(bagging.score(X_test_PCA,y_test)))"
   ]
  },
  {
   "cell_type": "code",
   "execution_count": null,
   "id": "fb65add2",
   "metadata": {},
   "outputs": [],
   "source": []
  },
  {
   "cell_type": "code",
   "execution_count": 35,
   "id": "99649b86",
   "metadata": {},
   "outputs": [
    {
     "ename": "NameError",
     "evalue": "name 'RFC_PCA' is not defined",
     "output_type": "error",
     "traceback": [
      "\u001b[1;31m---------------------------------------------------------------------------\u001b[0m",
      "\u001b[1;31mNameError\u001b[0m                                 Traceback (most recent call last)",
      "\u001b[1;32m<ipython-input-35-f457ec0fcfc8>\u001b[0m in \u001b[0;36m<module>\u001b[1;34m\u001b[0m\n\u001b[1;32m----> 1\u001b[1;33m \u001b[0mplt\u001b[0m\u001b[1;33m.\u001b[0m\u001b[0mbar\u001b[0m\u001b[1;33m(\u001b[0m\u001b[1;33m[\u001b[0m\u001b[1;34m'RFC-PCA'\u001b[0m\u001b[1;33m,\u001b[0m\u001b[1;34m'XGB-PCA'\u001b[0m\u001b[1;33m]\u001b[0m\u001b[1;33m,\u001b[0m\u001b[1;33m[\u001b[0m\u001b[0mRFC_PCA\u001b[0m\u001b[1;33m.\u001b[0m\u001b[0mscore\u001b[0m\u001b[1;33m(\u001b[0m\u001b[0mX_test_PCA\u001b[0m\u001b[1;33m,\u001b[0m\u001b[0my_test\u001b[0m\u001b[1;33m)\u001b[0m\u001b[1;33m,\u001b[0m\u001b[0mXGB_PCA\u001b[0m\u001b[1;33m.\u001b[0m\u001b[0mscore\u001b[0m\u001b[1;33m(\u001b[0m\u001b[0mX_test_PCA\u001b[0m\u001b[1;33m,\u001b[0m\u001b[0my_test\u001b[0m\u001b[1;33m)\u001b[0m\u001b[1;33m]\u001b[0m\u001b[1;33m,\u001b[0m \u001b[0mcolor\u001b[0m\u001b[1;33m=\u001b[0m\u001b[1;33m[\u001b[0m\u001b[1;34m'black'\u001b[0m\u001b[1;33m,\u001b[0m \u001b[1;34m'red'\u001b[0m\u001b[1;33m,\u001b[0m \u001b[1;34m'green'\u001b[0m\u001b[1;33m,\u001b[0m \u001b[1;34m'blue'\u001b[0m\u001b[1;33m,\u001b[0m \u001b[1;34m'cyan'\u001b[0m\u001b[1;33m]\u001b[0m\u001b[1;33m)\u001b[0m\u001b[1;33m\u001b[0m\u001b[1;33m\u001b[0m\u001b[0m\n\u001b[0m\u001b[0;32m      2\u001b[0m \u001b[0mplt\u001b[0m\u001b[1;33m.\u001b[0m\u001b[0mxlabel\u001b[0m\u001b[1;33m(\u001b[0m\u001b[1;34m'Model'\u001b[0m\u001b[1;33m)\u001b[0m\u001b[1;33m\u001b[0m\u001b[1;33m\u001b[0m\u001b[0m\n\u001b[0;32m      3\u001b[0m \u001b[0mplt\u001b[0m\u001b[1;33m.\u001b[0m\u001b[0mxticks\u001b[0m\u001b[1;33m(\u001b[0m\u001b[0mrotation\u001b[0m\u001b[1;33m=\u001b[0m\u001b[1;36m45\u001b[0m\u001b[1;33m)\u001b[0m\u001b[1;33m\u001b[0m\u001b[1;33m\u001b[0m\u001b[0m\n\u001b[0;32m      4\u001b[0m \u001b[0mplt\u001b[0m\u001b[1;33m.\u001b[0m\u001b[0mylabel\u001b[0m\u001b[1;33m(\u001b[0m\u001b[1;34m\"Accuracy\"\u001b[0m\u001b[1;33m)\u001b[0m\u001b[1;33m\u001b[0m\u001b[1;33m\u001b[0m\u001b[0m\n\u001b[0;32m      5\u001b[0m \u001b[1;32mfor\u001b[0m \u001b[0mi\u001b[0m\u001b[1;33m,\u001b[0m \u001b[0mv\u001b[0m \u001b[1;32min\u001b[0m \u001b[0menumerate\u001b[0m\u001b[1;33m(\u001b[0m\u001b[1;33m[\u001b[0m\u001b[0mfloor\u001b[0m\u001b[1;33m(\u001b[0m\u001b[0mRFC_PCA\u001b[0m\u001b[1;33m.\u001b[0m\u001b[0mscore\u001b[0m\u001b[1;33m(\u001b[0m\u001b[0mX_test_PCA\u001b[0m\u001b[1;33m,\u001b[0m\u001b[0my_test\u001b[0m\u001b[1;33m)\u001b[0m\u001b[1;33m)\u001b[0m\u001b[1;33m,\u001b[0m\u001b[0mfloor\u001b[0m\u001b[1;33m(\u001b[0m\u001b[0mXGB_PCA\u001b[0m\u001b[1;33m.\u001b[0m\u001b[0mscore\u001b[0m\u001b[1;33m(\u001b[0m\u001b[0mX_test_PCA\u001b[0m\u001b[1;33m,\u001b[0m\u001b[0my_test\u001b[0m\u001b[1;33m)\u001b[0m\u001b[1;33m)\u001b[0m\u001b[1;33m]\u001b[0m\u001b[1;33m)\u001b[0m\u001b[1;33m:\u001b[0m\u001b[1;33m\u001b[0m\u001b[1;33m\u001b[0m\u001b[0m\n",
      "\u001b[1;31mNameError\u001b[0m: name 'RFC_PCA' is not defined"
     ]
    }
   ],
   "source": [
    "plt.bar(['RFC-PCA','XGB-PCA'],[RFC_PCA.score(X_test_PCA,y_test),XGB_PCA.score(X_test_PCA,y_test)], color=['black', 'red', 'green', 'blue', 'cyan'])\n",
    "plt.xlabel('Model')\n",
    "plt.xticks(rotation=45)\n",
    "plt.ylabel(\"Accuracy\")\n",
    "for i, v in enumerate([floor(RFC_PCA.score(X_test_PCA,y_test)),floor(XGB_PCA.score(X_test_PCA,y_test))]):\n",
    "    plt.text(xlocs[i] - 0.25, v + 0.01, str(v))\n",
    "xlocs, xlabs = plt.xticks()\n",
    "plt.show()"
   ]
  },
  {
   "cell_type": "code",
   "execution_count": 36,
   "id": "9d926fa4",
   "metadata": {},
   "outputs": [],
   "source": [
    "X_testd = dftest.drop('label',axis = 1)\n",
    "y_testd = dftest['label']\n",
    "X_testd = X_testd/255"
   ]
  },
  {
   "cell_type": "code",
   "execution_count": 37,
   "id": "9c05dbff",
   "metadata": {},
   "outputs": [],
   "source": [
    "X_testr = PCA.transform(X_testd)"
   ]
  },
  {
   "cell_type": "code",
   "execution_count": 38,
   "id": "1390936a",
   "metadata": {},
   "outputs": [
    {
     "ename": "NameError",
     "evalue": "name 'clf' is not defined",
     "output_type": "error",
     "traceback": [
      "\u001b[1;31m---------------------------------------------------------------------------\u001b[0m",
      "\u001b[1;31mNameError\u001b[0m                                 Traceback (most recent call last)",
      "\u001b[1;32m<ipython-input-38-02d9aebeec25>\u001b[0m in \u001b[0;36m<module>\u001b[1;34m\u001b[0m\n\u001b[1;32m----> 1\u001b[1;33m \u001b[0mModel\u001b[0m \u001b[1;33m=\u001b[0m \u001b[0mclf\u001b[0m\u001b[1;33m.\u001b[0m\u001b[0mpredict\u001b[0m\u001b[1;33m(\u001b[0m\u001b[0mX_testr\u001b[0m\u001b[1;33m)\u001b[0m\u001b[1;33m\u001b[0m\u001b[1;33m\u001b[0m\u001b[0m\n\u001b[0m\u001b[0;32m      2\u001b[0m \u001b[0mprint\u001b[0m\u001b[1;33m(\u001b[0m\u001b[1;34m'Model Accuracy is on the test with pca of 84 components: {}'\u001b[0m\u001b[1;33m.\u001b[0m\u001b[0mformat\u001b[0m\u001b[1;33m(\u001b[0m\u001b[0mclf\u001b[0m\u001b[1;33m.\u001b[0m\u001b[0mscore\u001b[0m\u001b[1;33m(\u001b[0m\u001b[0mX_testr\u001b[0m\u001b[1;33m,\u001b[0m\u001b[0my_testd\u001b[0m\u001b[1;33m)\u001b[0m\u001b[1;33m)\u001b[0m\u001b[1;33m)\u001b[0m\u001b[1;33m\u001b[0m\u001b[1;33m\u001b[0m\u001b[0m\n",
      "\u001b[1;31mNameError\u001b[0m: name 'clf' is not defined"
     ]
    }
   ],
   "source": [
    "Model = clf.predict(X_testr)\n",
    "print('Model Accuracy is on the test with pca of 84 components: {}'.format(clf.score(X_testr,y_testd)))"
   ]
  },
  {
   "cell_type": "code",
   "execution_count": null,
   "id": "60febca0",
   "metadata": {},
   "outputs": [],
   "source": []
  }
 ],
 "metadata": {
  "kernelspec": {
   "display_name": "Python 3",
   "language": "python",
   "name": "python3"
  },
  "language_info": {
   "codemirror_mode": {
    "name": "ipython",
    "version": 3
   },
   "file_extension": ".py",
   "mimetype": "text/x-python",
   "name": "python",
   "nbconvert_exporter": "python",
   "pygments_lexer": "ipython3",
   "version": "3.8.8"
  }
 },
 "nbformat": 4,
 "nbformat_minor": 5
}
